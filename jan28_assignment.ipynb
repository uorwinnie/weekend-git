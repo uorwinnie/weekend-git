{
 "cells": [
  {
   "cell_type": "code",
   "execution_count": 1,
   "metadata": {},
   "outputs": [
    {
     "data": {
      "text/plain": [
       "4"
      ]
     },
     "execution_count": 1,
     "metadata": {},
     "output_type": "execute_result"
    }
   ],
   "source": [
    "def get_nth_digit(k,n):\n",
    "  i=str(k)\n",
    "  return int(i[-n])\n",
    "get_nth_digit(987654,1)"
   ]
  },
  {
   "cell_type": "code",
   "execution_count": 2,
   "metadata": {},
   "outputs": [
    {
     "data": {
      "text/plain": [
       "111"
      ]
     },
     "execution_count": 2,
     "metadata": {},
     "output_type": "execute_result"
    }
   ],
   "source": [
    "def get_int(string, separator, n):\n",
    "  return int(string.split(separator)[n])\n",
    "def format_sum(int_string):\n",
    "  x=0\n",
    "  for n in range(4):\n",
    "    x+= get_int(int_string,'+',n)\n",
    "  return x\n",
    "format_sum('100+10+1+0') "
   ]
  },
  {
   "cell_type": "code",
   "execution_count": 3,
   "metadata": {},
   "outputs": [
    {
     "data": {
      "text/plain": [
       "'12:10:08'"
      ]
     },
     "execution_count": 3,
     "metadata": {},
     "output_type": "execute_result"
    }
   ],
   "source": [
    "def time_to_seconds(time):\n",
    "  x = list(map(int, time.split(\":\")))\n",
    "  return x[0] * 3600 + x[1]*60 + x[2]\n",
    "def make_time_string(hours, mins, seconds):\n",
    "  return \"{:02d}:{:02d}:{:02d}\".format(hours, mins, seconds)\n",
    "\n",
    "def time_difference(time1, time2):\n",
    "  d= time_to_seconds(time2)-time_to_seconds(time1)\n",
    "  hours=d//3600\n",
    "  mins=(d%3600)//60\n",
    "  seconds=(d%3600)%60\n",
    "  return make_time_string(hours, mins, seconds)\n",
    "  \n",
    "time_difference('01:02:03', '13:12:11')"
   ]
  },
  {
   "cell_type": "code",
   "execution_count": 4,
   "metadata": {},
   "outputs": [
    {
     "data": {
      "text/plain": [
       "'Scalene'"
      ]
     },
     "execution_count": 4,
     "metadata": {},
     "output_type": "execute_result"
    }
   ],
   "source": [
    "def triangle(side1, side2, side3):\n",
    "  if side1>=(side2+side3) or side2>=(side1+side3) or side3>=(side1+side2):\n",
    "    return \"Not a triangle\"\n",
    "  else:\n",
    "    if side1==side2==side3:\n",
    "      return \"Equilateral\"\n",
    "    elif (side1==side2) or (side2==side3) or (side3==side1):\n",
    "      return \"Isosceles\"\n",
    "    else:\n",
    "      return \"Scalene\" \n",
    "triangle(40, 50, 60)"
   ]
  }
 ],
 "metadata": {
  "kernelspec": {
   "display_name": "Python 3",
   "language": "python",
   "name": "python3"
  },
  "language_info": {
   "codemirror_mode": {
    "name": "ipython",
    "version": 3
   },
   "file_extension": ".py",
   "mimetype": "text/x-python",
   "name": "python",
   "nbconvert_exporter": "python",
   "pygments_lexer": "ipython3",
   "version": "3.11.0 (main, Oct 24 2022, 18:26:48) [MSC v.1933 64 bit (AMD64)]"
  },
  "orig_nbformat": 4,
  "vscode": {
   "interpreter": {
    "hash": "ebfc0a8d552866b0d59eba665220a57de3bc06f3ac643b8bef38dd8f66781fdd"
   }
  }
 },
 "nbformat": 4,
 "nbformat_minor": 2
}
